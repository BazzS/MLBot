{
 "cells": [
  {
   "cell_type": "code",
   "execution_count": 43,
   "metadata": {},
   "outputs": [],
   "source": [
    "import nltk"
   ]
  },
  {
   "cell_type": "code",
   "execution_count": 44,
   "metadata": {},
   "outputs": [],
   "source": [
    "with open('dialogues.txt') as f:\n",
    "    dialogues_data = f.read()"
   ]
  },
  {
   "cell_type": "code",
   "execution_count": 45,
   "metadata": {},
   "outputs": [],
   "source": [
    "dialogues = [dialogue.split('\\n')[:2] for dialogue in dialogues_data.split('\\n\\n')]"
   ]
  },
  {
   "cell_type": "code",
   "execution_count": 46,
   "metadata": {},
   "outputs": [],
   "source": [
    "dialogues = [dialogue for dialogue in dialogues if len(dialogue) == 2]"
   ]
  },
  {
   "cell_type": "code",
   "execution_count": 47,
   "metadata": {},
   "outputs": [],
   "source": [
    "dialogues_filtered = []\n",
    "alphabet = '1234567890- абвгдеёжзийклмнопрстуфхцчшщъыьэюяqwertyuiopasdfghjklzxcvbnm'\n",
    "\n",
    "for dialogue in dialogues:\n",
    "    question = dialogue[0][2:].lower()\n",
    "    question = ''.join(char for char in question if char in alphabet)\n",
    "    question = question.strip()\n",
    "    answer = dialogue[1][2:].strip()\n",
    "    if question and answer:\n",
    "        dialogues_filtered.append((question, answer))"
   ]
  },
  {
   "cell_type": "code",
   "execution_count": 48,
   "metadata": {},
   "outputs": [
    {
     "data": {
      "text/plain": [
       "716968"
      ]
     },
     "execution_count": 48,
     "metadata": {},
     "output_type": "execute_result"
    }
   ],
   "source": [
    "dialogues_filtered = list(set(dialogues_filtered))\n",
    "len(dialogues_filtered)"
   ]
  },
  {
   "cell_type": "code",
   "execution_count": 67,
   "metadata": {},
   "outputs": [],
   "source": [
    "search_structure = {}  # {word: [(q, a), (q, a), ...], ...}\n",
    "\n",
    "for question, answer in dialogues_filtered:\n",
    "    words = question.split(' ')\n",
    "    for word in words:\n",
    "        if word not in search_structure:\n",
    "            search_structure[word] = []\n",
    "        search_structure[word].append((question, answer))\n",
    "\n",
    "to_del = []\n",
    "for word in search_structure:\n",
    "    if len(search_structure[word]) > 10000:\n",
    "        to_del.append(word)\n",
    "\n",
    "for word in to_del:\n",
    "    search_structure.pop(word)"
   ]
  },
  {
   "cell_type": "code",
   "execution_count": 68,
   "metadata": {},
   "outputs": [
    {
     "name": "stdout",
     "output_type": "stream",
     "text": [
      "209003\n"
     ]
    }
   ],
   "source": [
    "print(len(search_structure))"
   ]
  },
  {
   "cell_type": "code",
   "execution_count": 69,
   "metadata": {},
   "outputs": [],
   "source": [
    "alphabet = '1234567890- абвгдеёжзийклмнопрстуфхцчшщъыьэюяqwertyuiopasdfghjklzxcvbnm'\n",
    "\n",
    "def get_generative_response(text):\n",
    "    text = text.lower()\n",
    "    text = ''.join(char for char in text if char in alphabet)\n",
    "    text = text.strip()\n",
    "    words = text.split(' ')\n",
    "\n",
    "    qas = []\n",
    "    for word in words:\n",
    "        if word in search_structure:\n",
    "            qas += search_structure[word]\n",
    "            print(len(search_structure[word]))\n",
    "\n",
    "    for question, answer in qas:\n",
    "        if abs(len(text) - len(question)) < len(question) * 0.20:\n",
    "            edit_distance = nltk.edit_distance(text, question)\n",
    "            if edit_distance / len(question) < 0.20:\n",
    "                return question, answer"
   ]
  },
  {
   "cell_type": "code",
   "execution_count": 71,
   "metadata": {},
   "outputs": [
    {
     "name": "stdout",
     "output_type": "stream",
     "text": [
      "855\n",
      "4614\n",
      "621\n"
     ]
    },
    {
     "data": {
      "text/plain": [
       "('мальчик или девочка', 'Девочка.')"
      ]
     },
     "execution_count": 71,
     "metadata": {},
     "output_type": "execute_result"
    }
   ],
   "source": [
    "get_generative_response('ты мальчик или девочка')"
   ]
  },
  {
   "cell_type": "code",
   "execution_count": 74,
   "metadata": {},
   "outputs": [
    {
     "data": {
      "text/plain": [
       "0.3801775147928994"
      ]
     },
     "execution_count": 74,
     "metadata": {},
     "output_type": "execute_result"
    }
   ],
   "source": [
    "257 / (242 + 177 + 257)"
   ]
  },
  {
   "cell_type": "code",
   "execution_count": null,
   "metadata": {},
   "outputs": [],
   "source": []
  }
 ],
 "metadata": {
  "kernelspec": {
   "display_name": "Python 3",
   "language": "python",
   "name": "python3"
  },
  "language_info": {
   "codemirror_mode": {
    "name": "ipython",
    "version": 3
   },
   "file_extension": ".py",
   "mimetype": "text/x-python",
   "name": "python",
   "nbconvert_exporter": "python",
   "pygments_lexer": "ipython3",
   "version": "3.7.6"
  }
 },
 "nbformat": 4,
 "nbformat_minor": 4
}
